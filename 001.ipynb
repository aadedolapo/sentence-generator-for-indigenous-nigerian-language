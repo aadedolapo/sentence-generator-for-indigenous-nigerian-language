{
  "cells": [
    {
      "cell_type": "markdown",
      "id": "3cfed742-20c9-47b7-b90a-03306bd2e8a1",
      "metadata": {
        "id": "3cfed742-20c9-47b7-b90a-03306bd2e8a1"
      },
      "source": [
        "# Sentence Generator for Nigerian Indigenous Languages"
      ]
    },
    {
      "cell_type": "markdown",
      "source": [
        "# Load Data from Git URL"
      ],
      "metadata": {
        "id": "wMp0-l9-sRnP"
      },
      "id": "wMp0-l9-sRnP"
    },
    {
      "cell_type": "code",
      "source": [
        "!wget https://raw.githubusercontent.com/Niger-Volta-LTI/yoruba-text/master/Owe/owe.txt"
      ],
      "metadata": {
        "colab": {
          "base_uri": "https://localhost:8080/"
        },
        "id": "ZPelLr42sbJ_",
        "outputId": "72061360-3f98-4c32-c221-4f921d01b62a"
      },
      "execution_count": 1,
      "outputs": [
        {
          "output_type": "stream",
          "name": "stdout",
          "text": [
            "--2022-08-23 20:03:57--  https://raw.githubusercontent.com/Niger-Volta-LTI/yoruba-text/master/Owe/owe.txt\n",
            "Resolving raw.githubusercontent.com (raw.githubusercontent.com)... 185.199.110.133, 185.199.111.133, 185.199.109.133, ...\n",
            "Connecting to raw.githubusercontent.com (raw.githubusercontent.com)|185.199.110.133|:443... connected.\n",
            "HTTP request sent, awaiting response... 200 OK\n",
            "Length: 180836 (177K) [text/plain]\n",
            "Saving to: ‘owe.txt.2’\n",
            "\n",
            "\rowe.txt.2             0%[                    ]       0  --.-KB/s               \rowe.txt.2           100%[===================>] 176.60K  --.-KB/s    in 0.009s  \n",
            "\n",
            "2022-08-23 20:03:57 (20.1 MB/s) - ‘owe.txt.2’ saved [180836/180836]\n",
            "\n"
          ]
        }
      ],
      "id": "ZPelLr42sbJ_"
    },
    {
      "cell_type": "markdown",
      "id": "16fe8c0b-3720-4aee-9df4-e7ca40872336",
      "metadata": {
        "id": "16fe8c0b-3720-4aee-9df4-e7ca40872336"
      },
      "source": [
        "### Import Neccessary Libraries and Load Data"
      ]
    },
    {
      "cell_type": "code",
      "source": [
        "%tensorflow_version 2.x"
      ],
      "metadata": {
        "colab": {
          "base_uri": "https://localhost:8080/"
        },
        "id": "IasippKS0JAA",
        "outputId": "b32558c2-53bc-4aaa-c3ad-28a8b7413b1c"
      },
      "id": "IasippKS0JAA",
      "execution_count": 2,
      "outputs": [
        {
          "output_type": "stream",
          "name": "stdout",
          "text": [
            "Colab only includes TensorFlow 2.x; %tensorflow_version has no effect.\n"
          ]
        }
      ]
    },
    {
      "cell_type": "code",
      "source": [
        "import tensorflow as tf\n",
        "from tensorflow.keras.preprocessing.text import Tokenizer\n",
        "from tensorflow.keras.preprocessing.sequence import pad_sequences\n",
        "import numpy as np"
      ],
      "metadata": {
        "id": "pAIuEy4ryFfy"
      },
      "id": "pAIuEy4ryFfy",
      "execution_count": 3,
      "outputs": []
    },
    {
      "cell_type": "code",
      "source": [
        "with open('owe.txt') as file:\n",
        "    # Load data in a list\n",
        "    data = file.readlines()\n",
        "# Join eaxh line of proverb together, convert to lowercase and split by '\\n'\n",
        "data = ''.join(data).lower().split('\\n') \n",
        "len(data)"
      ],
      "metadata": {
        "id": "gkjRemrguDOS",
        "colab": {
          "base_uri": "https://localhost:8080/"
        },
        "outputId": "7e089b4c-0055-4a89-fe50-cc5235606277"
      },
      "execution_count": 4,
      "outputs": [
        {
          "output_type": "execute_result",
          "data": {
            "text/plain": [
              "2702"
            ]
          },
          "metadata": {},
          "execution_count": 4
        }
      ],
      "id": "gkjRemrguDOS"
    },
    {
      "cell_type": "code",
      "source": [
        "# Check a subset of the data\n",
        "data[:10]"
      ],
      "metadata": {
        "colab": {
          "base_uri": "https://localhost:8080/"
        },
        "id": "l4Rlp1DauPCJ",
        "outputId": "d26e9b8a-a6bb-4beb-8d52-3a229aefc733"
      },
      "execution_count": 5,
      "outputs": [
        {
          "output_type": "execute_result",
          "data": {
            "text/plain": [
              "['',\n",
              " 'a di gàárì sílẹ̀ ewúrẹ́ ńyọjú; ẹrù ìran rẹ̀ ni?',\n",
              " 'a kì í dàgbà má làáyà; ibi ayé bá báni là ńjẹ ẹ́.',\n",
              " 'àgbà kán ṣe bẹ́ẹ̀ lógùn; yemaja ló gbé e lọ.',\n",
              " 'ibi tí oyín gbé ńhó, tí àdó ńhó, ìfun ò dákẹ́ lásán.',\n",
              " 'ìdí òwò ni òwòó gbé tà.',\n",
              " 'igún ṣoore ó pá lórí, àkàlà-á ṣoore ó yọ gẹ̀gẹ̀; nítorí ọjọ́ mìíràn kẹni ó má ṣe oore bẹ́ẹ̀ mọ́.',\n",
              " 'ìgbà ara là ḿbúra.',\n",
              " 'igbá là ńpa, a kì í pa àwo.',\n",
              " 'ìgbà òjò ńlọ, ìgbà ẹ̀rùn ńlọ, a ní ká dí isà eku kó le; ìgbà wo la óò tó wá peku náà?']"
            ]
          },
          "metadata": {},
          "execution_count": 5
        }
      ],
      "id": "l4Rlp1DauPCJ"
    },
    {
      "cell_type": "markdown",
      "source": [
        "Notice the empty line at index 0. deleting that index from our list"
      ],
      "metadata": {
        "id": "YzZHOGcqw_Yp"
      },
      "id": "YzZHOGcqw_Yp"
    },
    {
      "cell_type": "code",
      "source": [
        "del data[0]"
      ],
      "metadata": {
        "id": "GjpTImnBwL7b"
      },
      "execution_count": 6,
      "outputs": [],
      "id": "GjpTImnBwL7b"
    },
    {
      "cell_type": "code",
      "source": [
        "len(data)"
      ],
      "metadata": {
        "colab": {
          "base_uri": "https://localhost:8080/"
        },
        "id": "tUrVACLIwOJX",
        "outputId": "cbbb6745-ca30-4c4b-9cda-1e6a3109d297"
      },
      "execution_count": 7,
      "outputs": [
        {
          "output_type": "execute_result",
          "data": {
            "text/plain": [
              "2701"
            ]
          },
          "metadata": {},
          "execution_count": 7
        }
      ],
      "id": "tUrVACLIwOJX"
    },
    {
      "cell_type": "code",
      "source": [
        "data[:5]"
      ],
      "metadata": {
        "id": "eIUaJLlL2iNM",
        "colab": {
          "base_uri": "https://localhost:8080/"
        },
        "outputId": "57c3888e-8e96-4ec7-c4d8-b70bdf3daa14"
      },
      "id": "eIUaJLlL2iNM",
      "execution_count": 8,
      "outputs": [
        {
          "output_type": "execute_result",
          "data": {
            "text/plain": [
              "['a di gàárì sílẹ̀ ewúrẹ́ ńyọjú; ẹrù ìran rẹ̀ ni?',\n",
              " 'a kì í dàgbà má làáyà; ibi ayé bá báni là ńjẹ ẹ́.',\n",
              " 'àgbà kán ṣe bẹ́ẹ̀ lógùn; yemaja ló gbé e lọ.',\n",
              " 'ibi tí oyín gbé ńhó, tí àdó ńhó, ìfun ò dákẹ́ lásán.',\n",
              " 'ìdí òwò ni òwòó gbé tà.']"
            ]
          },
          "metadata": {},
          "execution_count": 8
        }
      ]
    },
    {
      "cell_type": "code",
      "source": [
        ""
      ],
      "metadata": {
        "id": "EZbBC5uLTkMP"
      },
      "id": "EZbBC5uLTkMP",
      "execution_count": null,
      "outputs": []
    }
  ],
  "metadata": {
    "kernelspec": {
      "display_name": "Python 3 (ipykernel)",
      "language": "python",
      "name": "python3"
    },
    "language_info": {
      "codemirror_mode": {
        "name": "ipython",
        "version": 3
      },
      "file_extension": ".py",
      "mimetype": "text/x-python",
      "name": "python",
      "nbconvert_exporter": "python",
      "pygments_lexer": "ipython3",
      "version": "3.9.12"
    },
    "colab": {
      "name": "001.ipynb",
      "provenance": [],
      "collapsed_sections": []
    }
  },
  "nbformat": 4,
  "nbformat_minor": 5
}