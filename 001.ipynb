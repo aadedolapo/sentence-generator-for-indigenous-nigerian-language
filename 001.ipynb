{
 "cells": [
  {
   "cell_type": "markdown",
   "id": "3cfed742-20c9-47b7-b90a-03306bd2e8a1",
   "metadata": {},
   "source": [
    "# Sentence Generator for Nigerian Indigenous Languages"
   ]
  },
  {
   "cell_type": "markdown",
   "id": "16fe8c0b-3720-4aee-9df4-e7ca40872336",
   "metadata": {},
   "source": [
    "### Import Neccessary Libraries and Load Data"
   ]
  },
  {
   "cell_type": "code",
   "execution_count": null,
   "id": "0374a461-2963-4c21-890f-7b325148d906",
   "metadata": {},
   "outputs": [],
   "source": []
  }
 ],
 "metadata": {
  "kernelspec": {
   "display_name": "Python 3 (ipykernel)",
   "language": "python",
   "name": "python3"
  },
  "language_info": {
   "codemirror_mode": {
    "name": "ipython",
    "version": 3
   },
   "file_extension": ".py",
   "mimetype": "text/x-python",
   "name": "python",
   "nbconvert_exporter": "python",
   "pygments_lexer": "ipython3",
   "version": "3.9.12"
  }
 },
 "nbformat": 4,
 "nbformat_minor": 5
}
